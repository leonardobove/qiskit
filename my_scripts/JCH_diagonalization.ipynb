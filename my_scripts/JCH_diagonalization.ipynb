{
 "cells": [
  {
   "cell_type": "code",
   "execution_count": 1,
   "id": "e3c7b58d",
   "metadata": {},
   "outputs": [],
   "source": [
    "# import SymPy and define symbols\n",
    "import sympy as sp\n",
    "sp.init_printing(use_unicode=True)\n",
    "wr = sp.Symbol('\\omega_r') # resonator frequency\n",
    "wq = sp.Symbol('\\omega_q') # qubit frequency\n",
    "g = sp.Symbol('g', real=True) # vacuum Rabi coupling\n",
    "Delta = sp.Symbol('Delta', real=True) # wr - wq; defined later"
   ]
  },
  {
   "cell_type": "code",
   "execution_count": 2,
   "id": "c594488b",
   "metadata": {},
   "outputs": [],
   "source": [
    "# import operator relations and define them\n",
    "from sympy.physics.quantum.boson import BosonOp\n",
    "a = BosonOp('a') # resonator photon annihilation operator\n",
    "from sympy.physics.quantum import pauli, Dagger, Commutator\n",
    "from sympy.physics.quantum.operatorordering import normal_ordered_form\n",
    "\n",
    "# Pauli matrices\n",
    "sx = pauli.SigmaX()\n",
    "sy = pauli.SigmaY()\n",
    "sz = pauli.SigmaZ()\n",
    "\n",
    "# qubit raising and lowering operators, notice the spin and qubit ladder operators are inversed\n",
    "splus = pauli.SigmaMinus()\n",
    "sminus = pauli.SigmaPlus()"
   ]
  },
  {
   "cell_type": "code",
   "execution_count": 4,
   "id": "de577ef5",
   "metadata": {},
   "outputs": [
    {
     "data": {
      "image/png": "[encoded data removed]",
      "text/latex": [
       "$\\displaystyle - 0.5 \\omega_{q} {\\sigma_z} + \\omega_{r} {{a}^\\dagger} {a} + g \\left({{a}^\\dagger} {\\sigma_+} + {a} {\\sigma_-}\\right)$"
      ],
      "text/plain": [
       "                               †       ⎛ †                ⎞\n",
       "-0.5⋅\\omega_q⋅False + \\omegaᵣ⋅a ⋅a + g⋅⎝a ⋅False + a⋅False⎠"
      ]
     },
     "execution_count": 4,
     "metadata": {},
     "output_type": "execute_result"
    }
   ],
   "source": [
    "# define J-C Hamiltonian in terms of diagonal and non-block diagonal terms\n",
    "H0 = wr*Dagger(a)*a - (1/2)*wq*sz; \n",
    "H2 = g*(Dagger(a)*sminus + a*splus); \n",
    "HJC = H0 + H2; HJC # print"
   ]
  },
  {
   "cell_type": "code",
   "execution_count": 5,
   "id": "e6594b0e",
   "metadata": {},
   "outputs": [
    {
     "data": {
      "image/png": "[encoded data removed]",
      "text/latex": [
       "$\\displaystyle - g \\left[{{a}^\\dagger} {\\sigma_+} + {a} {\\sigma_-},- 0.5 \\omega_{q} {\\sigma_z} + \\omega_{r} {{a}^\\dagger} {a}\\right]$"
      ],
      "text/plain": [
       "   ⎡ †                                                †  ⎤\n",
       "-g⋅⎣a ⋅False + a⋅False,-0.5⋅\\omega_q⋅False + \\omegaᵣ⋅a ⋅a⎦"
      ]
     },
     "execution_count": 5,
     "metadata": {},
     "output_type": "execute_result"
    }
   ],
   "source": [
    "# using the above method for finding the ansatz\n",
    "eta = Commutator(H0, H2); eta"
   ]
  },
  {
   "cell_type": "code",
   "execution_count": 6,
   "id": "5ae48339",
   "metadata": {},
   "outputs": [
    {
     "data": {
      "image/png": "[encoded data removed]",
      "text/latex": [
       "$\\displaystyle - 1.0 \\omega_{q} g {{a}^\\dagger} {\\sigma_+} + 1.0 \\omega_{q} g {a} {\\sigma_-} + \\omega_{r} g {{a}^\\dagger} {\\sigma_+} - \\omega_{r} g {a} {\\sigma_-}$"
      ],
      "text/plain": [
       "              †                                             †                 \n",
       "- \\omega_q⋅g⋅a ⋅False + 1.0⋅\\omega_q⋅g⋅a⋅False + \\omegaᵣ⋅g⋅a ⋅False - \\omegaᵣ⋅\n",
       "\n",
       "         \n",
       "g⋅a⋅False"
      ]
     },
     "execution_count": 6,
     "metadata": {},
     "output_type": "execute_result"
    }
   ],
   "source": [
    "pauli.qsimplify_pauli(normal_ordered_form(eta.doit().expand()))"
   ]
  },
  {
   "cell_type": "code",
   "execution_count": 7,
   "id": "78dcaf68",
   "metadata": {},
   "outputs": [
    {
     "data": {
      "image/png": "[encoded data removed]",
      "text/latex": [
       "$\\displaystyle - 1.0 A \\omega_{q} {{a}^\\dagger} {\\sigma_+} + A \\omega_{r} {{a}^\\dagger} {\\sigma_+} - 1.0 B \\omega_{q} {a} {\\sigma_-} + B \\omega_{r} {a} {\\sigma_-}$"
      ],
      "text/plain": [
       "              †                    †                                          \n",
       "- A⋅\\omega_q⋅a ⋅False + A⋅\\omegaᵣ⋅a ⋅False - B⋅\\omega_q⋅a⋅False + B⋅\\omegaᵣ⋅a⋅\n",
       "\n",
       "     \n",
       "False"
      ]
     },
     "execution_count": 7,
     "metadata": {},
     "output_type": "execute_result"
    }
   ],
   "source": [
    "A = sp.Symbol('A')\n",
    "B = sp.Symbol('B')\n",
    "eta = A * Dagger(a) * sminus - B * a * splus;\n",
    "pauli.qsimplify_pauli(normal_ordered_form(Commutator(H0, eta).doit().expand()))"
   ]
  },
  {
   "cell_type": "code",
   "execution_count": 8,
   "id": "5d3ccd3e",
   "metadata": {},
   "outputs": [
    {
     "data": {
      "image/png": "[encoded data removed]",
      "text/latex": [
       "$\\displaystyle g \\left({{a}^\\dagger} {\\sigma_+} + {a} {\\sigma_-}\\right)$"
      ],
      "text/plain": [
       "  ⎛ †                ⎞\n",
       "g⋅⎝a ⋅False + a⋅False⎠"
      ]
     },
     "execution_count": 8,
     "metadata": {},
     "output_type": "execute_result"
    }
   ],
   "source": [
    "H2"
   ]
  },
  {
   "cell_type": "code",
   "execution_count": 9,
   "id": "d06ebf48",
   "metadata": {},
   "outputs": [
    {
     "data": {
      "image/png": "[encoded data removed]",
      "text/latex": [
       "$\\displaystyle \\frac{g \\left({{a}^\\dagger} {\\sigma_+} - {a} {\\sigma_-}\\right)}{\\Delta}$"
      ],
      "text/plain": [
       "  ⎛ †                ⎞\n",
       "g⋅⎝a ⋅False - a⋅False⎠\n",
       "──────────────────────\n",
       "          Δ           "
      ]
     },
     "execution_count": 9,
     "metadata": {},
     "output_type": "execute_result"
    }
   ],
   "source": [
    "S1 = eta.subs(A, g/Delta)\n",
    "S1 = S1.subs(B, g/Delta); S1.factor()"
   ]
  },
  {
   "cell_type": "code",
   "execution_count": 10,
   "id": "fff63e5b",
   "metadata": {},
   "outputs": [
    {
     "data": {
      "image/png": "[encoded data removed]",
      "text/latex": [
       "$\\displaystyle - 0.5 \\omega_{q} {\\sigma_z} + \\omega_{r} {{a}^\\dagger} {a} + \\frac{0.5 g^{2} \\cdot \\left(1 - 2 {{a}^\\dagger} {a} {\\sigma_z} - {\\sigma_z}\\right)}{\\Delta}$"
      ],
      "text/plain": [
       "                                          2 ⎛       †                ⎞\n",
       "                               †     0.5⋅g ⋅⎝1 - 2⋅a ⋅a⋅False - False⎠\n",
       "-0.5⋅\\omega_q⋅False + \\omegaᵣ⋅a ⋅a + ─────────────────────────────────\n",
       "                                                     Δ                "
      ]
     },
     "execution_count": 10,
     "metadata": {},
     "output_type": "execute_result"
    }
   ],
   "source": [
    "Heff = H0 + 0.5*pauli.qsimplify_pauli(normal_ordered_form(Commutator(H2, S1).doit().expand())).simplify(); Heff"
   ]
  },
  {
   "cell_type": "code",
   "execution_count": null,
   "id": "17a9149d",
   "metadata": {},
   "outputs": [],
   "source": []
  }
 ],
 "metadata": {
  "kernelspec": {
   "display_name": "Python 3 (ipykernel)",
   "language": "python",
   "name": "python3"
  },
  "language_info": {
   "codemirror_mode": {
    "name": "ipython",
    "version": 3
   },
   "file_extension": ".py",
   "mimetype": "text/x-python",
   "name": "python",
   "nbconvert_exporter": "python",
   "pygments_lexer": "ipython3",
   "version": "3.10.7"
  }
 },
 "nbformat": 4,
 "nbformat_minor": 5
}

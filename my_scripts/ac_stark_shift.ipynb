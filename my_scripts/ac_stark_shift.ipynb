{
 "cells": [
  {
   "cell_type": "code",
   "execution_count": 1,
   "id": "8150df5b",
   "metadata": {},
   "outputs": [],
   "source": [
    "import warnings\n",
    "warnings.filterwarnings('ignore')"
   ]
  },
  {
   "cell_type": "code",
   "execution_count": 2,
   "id": "e2c102a9",
   "metadata": {},
   "outputs": [],
   "source": [
    "# Importing standard Qiskit libraries and configuring account\n",
    "from qiskit import QuantumCircuit, execute, Aer, IBMQ\n",
    "from qiskit.compiler import transpile, assemble\n",
    "from qiskit.circuit import Gate\n",
    "from qiskit import schedule as build_schedule\n",
    "# Loading your IBM Q account(s)\n",
    "provider = IBMQ.load_account()\n",
    "provider = IBMQ.get_provider(hub='ibm-q', group='open', project='main')\n",
    "backend = provider.get_backend('ibmq_manila')"
   ]
  },
  {
   "cell_type": "code",
   "execution_count": 3,
   "id": "e2d7d2cc",
   "metadata": {},
   "outputs": [],
   "source": [
    "#IBMProvider.save_account(token=\"dd5975c35d22e23d5a6666f97ad3f54143b2de99b9a3cbbf7588a8d7cf508efaa9c140872a0af59ad5e334585fa7519044162b94c91b70d6ec07c777d67ff92b\")"
   ]
  },
  {
   "cell_type": "code",
   "execution_count": 4,
   "id": "5e0c7ad7",
   "metadata": {},
   "outputs": [],
   "source": [
    "# Loading your IBM Q account(s)\n",
    "#provider = IBMProvider()\n",
    "#provider = IBMProvider(instance=\"ibm-q/open/main\")\n",
    "#backend = provider.get_backend('ibmq_manila')"
   ]
  },
  {
   "cell_type": "code",
   "execution_count": 5,
   "id": "c62cf2a9",
   "metadata": {},
   "outputs": [],
   "source": [
    "backend_config = backend.configuration()\n",
    "backend_defaults = backend.defaults()"
   ]
  },
  {
   "cell_type": "code",
   "execution_count": 6,
   "id": "a8b408b2",
   "metadata": {},
   "outputs": [],
   "source": [
    "qind = 0\n",
    "cmap = []\n",
    "for i, j in backend_config.coupling_map:\n",
    "    if i == qind:\n",
    "        cmap.append([i, j])\n",
    "pair = cmap[0]\n",
    "con_chan = backend_config.control(pair)[0]"
   ]
  },
  {
   "cell_type": "code",
   "execution_count": 7,
   "id": "953d6ddc",
   "metadata": {},
   "outputs": [],
   "source": [
    "from scipy.optimize import leastsq,minimize, curve_fit\n",
    "\n",
    "# samples need to be multiples of 16 to accommodate the hardware limitations\n",
    "def get_closest_multiple_of_16(num):\n",
    "    return int(num + 8 ) - (int(num + 8 ) % 16)\n",
    "\n",
    "# lorentzian function\n",
    "def lorentzian(f, f0, k, a, offs):\n",
    "    return a*k/(2*np.pi)/((k/2)**2+(f-f0)**2)+offs\n",
    "\n",
    "#fit_lorentzian takes two arrays that contain the frequencies and experimental output values of each frequency respectively. \n",
    "#returns the lorentzian parameters that best fits this output of the experiment.\n",
    "#popt are the fit parameters and pcov is the covariance matrix for the fit\n",
    "def fit_lorentzian(freqs,values):\n",
    "    p0=[freqs[np.argmax(values)],(freqs[-1]-freqs[0])/2,max(values),0]\n",
    "    bounds=([freqs[0],0,0,-np.inf],[freqs[-1],freqs[-1]-freqs[0],np.inf,np.inf])\n",
    "    popt,pcov=curve_fit(lorentzian, freqs, values, p0=p0, bounds=bounds)\n",
    "    return popt,pcov\n",
    "\n",
    "# Gaussian function\n",
    "def gaussian(f, f0, sigma, a, offs):\n",
    "    return a*np.exp(-(f-f0)**2/(2*sigma**2))+offs\n",
    "\n",
    "#fit_gaussian takes two arrays that contain the frequencies and experimental output values of each frequency respectively. \n",
    "#returns the gaussian parameters that best fits this output of the experiment.\n",
    "#popt are the fit parameters and pcov is the covariance matrix for the fit\n",
    "def fit_gaussian(freqs,values):\n",
    "    p0=[freqs[np.argmax(values)],(freqs[-1]-freqs[0])/2,max(values),0]\n",
    "    bounds=([freqs[0],0,0,-np.inf],[freqs[-1],freqs[-1]-freqs[0],np.inf,np.inf])\n",
    "    popt,pcov=curve_fit(gaussian, freqs, values, p0=p0, bounds=bounds)\n",
    "    return popt,pcov\n",
    "\n",
    "# normalize the data points to fall in the range of [0,1]\n",
    "def normalize(a):\n",
    "    a= a-min(a)\n",
    "    return a/max(a)"
   ]
  },
  {
   "cell_type": "code",
   "execution_count": 8,
   "id": "e52db67a",
   "metadata": {},
   "outputs": [],
   "source": [
    "from qiskit import pulse            # This is where we access all of our Pulse features!\n",
    "from qiskit.circuit import Parameter\n",
    "import numpy as np\n",
    "\n",
    "# unit conversion factors -> all backend properties returned in SI (Hz, sec, etc.)\n",
    "GHz = 1.0e9 # Gigahertz\n",
    "MHz = 1.0e6 # Megahertz\n",
    "us = 1.0e-6 # Microseconds\n",
    "ns = 1.0e-9 # Nanoseconds\n",
    "\n",
    "qubit=0   # qubit used in our experiment\n",
    "\n",
    "qubit_drive_sigma = 0.1 * us        #the width of the qubit spectroscopy drive\n",
    "stark_tone_drive_sigma=10 * ns      #This is Gaussian sigma of rising and falling edge\n",
    "drive_duration=8*qubit_drive_sigma  #the stark drive duration\n",
    "\n",
    "start=4.960 * GHz  # qubit spectroscopy start frequency\n",
    "stop=4.980 * GHz   # qubit spectroscopy stop frequency\n",
    "freqs = np.linspace(start, stop, 41)"
   ]
  },
  {
   "cell_type": "code",
   "execution_count": 9,
   "id": "f4c7b2b6",
   "metadata": {},
   "outputs": [],
   "source": [
    "# pulse sequence for the experiment at different amplitudes\n",
    "amplitude = Parameter('amplitude')\n",
    "drive_freq = Parameter('drive_freq')\n",
    "control_freq = Parameter('control_freq')\n",
    "with pulse.build(backend=backend, name='ac Stark Shift Experimet') as stark_pulse:\n",
    "    duration = get_closest_multiple_of_16(pulse.seconds_to_samples(drive_duration))\n",
    "    drive_qubit_sigma = pulse.seconds_to_samples(qubit_drive_sigma)\n",
    "    drive_stark_tone_sigma = pulse.seconds_to_samples(stark_tone_drive_sigma)\n",
    "    drive_chan = pulse.drive_channel(qubit)\n",
    "    pulse.set_frequency(drive_freq, drive_chan)\n",
    "    pulse.play(pulse.Gaussian(duration=duration,\n",
    "                              amp = 0.05,\n",
    "                              sigma=drive_qubit_sigma,\n",
    "                              name='qubit tone'), drive_chan)\n",
    "    pulse.set_frequency(control_freq, con_chan)\n",
    "    pulse.play(pulse.GaussianSquare(duration = duration,\n",
    "                                    amp = amplitude,\n",
    "                                    sigma = drive_stark_tone_sigma,\n",
    "                                    risefall_sigma_ratio = 2,\n",
    "                                    name = 'stark tone'), con_chan)"
   ]
  },
  {
   "cell_type": "code",
   "execution_count": 10,
   "id": "c7e11906",
   "metadata": {},
   "outputs": [],
   "source": [
    "stark_spect_gate = Gate(\"stark\", 1, [amplitude, drive_freq, control_freq])\n",
    "\n",
    "qc_stark = QuantumCircuit(1, 1)\n",
    "\n",
    "qc_stark.append(stark_spect_gate, [0])\n",
    "qc_stark.measure(0, 0)\n",
    "qc_stark.add_calibration(stark_spect_gate, (0,), stark_pulse)"
   ]
  },
  {
   "cell_type": "code",
   "execution_count": 14,
   "id": "94a934c8",
   "metadata": {},
   "outputs": [],
   "source": [
    "stark_tone_amplitude = np.linspace(0, 0.2, 11) #change to amplitude"
   ]
  },
  {
   "cell_type": "code",
   "execution_count": 16,
   "id": "b5f71669",
   "metadata": {},
   "outputs": [
    {
     "name": "stdout",
     "output_type": "stream",
     "text": [
      "Job Status: job incurred error     \n"
     ]
    },
    {
     "data": {
      "text/plain": [
       "'Internal Error. Error code: 9999.'"
      ]
     },
     "execution_count": 16,
     "metadata": {},
     "output_type": "execute_result"
    }
   ],
   "source": [
    "from qiskit.tools.monitor import job_monitor\n",
    "\n",
    "num_shots = 4*1024\n",
    "\n",
    "stark_tone_results=[]\n",
    "amp = 0.02\n",
    "#for amp in stark_tone_amplitude[1]:\n",
    "qc_stark_circs = [qc_stark.assign_parameters({amplitude: amp , drive_freq: freq, control_freq: freq - 100 * MHz}, inplace=False) for freq in freqs]\n",
    "job = backend.run(qc_stark_circs, \n",
    "                  meas_level=1, \n",
    "                  meas_return='avg', \n",
    "                  shots=num_shots)\n",
    "job_monitor(job)\n",
    "job.error_message()    "
   ]
  },
  {
   "cell_type": "code",
   "execution_count": null,
   "id": "6ff276de",
   "metadata": {},
   "outputs": [],
   "source": []
  }
 ],
 "metadata": {
  "kernelspec": {
   "display_name": "Python 3 (ipykernel)",
   "language": "python",
   "name": "python3"
  },
  "language_info": {
   "codemirror_mode": {
    "name": "ipython",
    "version": 3
   },
   "file_extension": ".py",
   "mimetype": "text/x-python",
   "name": "python",
   "nbconvert_exporter": "python",
   "pygments_lexer": "ipython3",
   "version": "3.10.7"
  }
 },
 "nbformat": 4,
 "nbformat_minor": 5
}

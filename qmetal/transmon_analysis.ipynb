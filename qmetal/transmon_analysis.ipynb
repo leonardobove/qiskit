{
 "cells": [
  {
   "cell_type": "code",
   "execution_count": 1,
   "id": "80e41285",
   "metadata": {},
   "outputs": [],
   "source": [
    "%reload_ext autoreload\n",
    "%autoreload 2\n",
    "\n",
    "import qiskit_metal as metal\n",
    "from qiskit_metal import designs, draw\n",
    "from qiskit_metal import MetalGUI, Dict, Headings\n",
    "import pyEPR as epr"
   ]
  },
  {
   "cell_type": "code",
   "execution_count": 2,
   "id": "16ba53a6",
   "metadata": {},
   "outputs": [],
   "source": [
    "design = designs.DesignPlanar({}, True)\n",
    "design.chips.main.size['size_x'] = '2mm'\n",
    "design.chips.main.size['size_y'] = '2mm'\n",
    "\n",
    "gui = MetalGUI(design)"
   ]
  },
  {
   "cell_type": "code",
   "execution_count": 3,
   "id": "931322ed",
   "metadata": {},
   "outputs": [],
   "source": [
    "from qiskit_metal.qlibrary.qubits.transmon_pocket import TransmonPocket\n",
    "\n",
    "design.delete_all_components()\n",
    "\n",
    "q1 = TransmonPocket(design, 'Q1', options = dict(\n",
    "    pad_width = '425 um',\n",
    "    pocket_height = '650um',\n",
    "    connection_pads=dict(\n",
    "        readout = dict(loc_W=+1,loc_H=+1, pad_width='200um')\n",
    "    )))\n",
    "\n",
    "gui.rebuild()\n",
    "gui.autoscale()"
   ]
  },
  {
   "cell_type": "code",
   "execution_count": 4,
   "id": "41074c81",
   "metadata": {},
   "outputs": [],
   "source": [
    "from qiskit_metal.analyses.quantization import EPRanalysis\n",
    "eig_qb = EPRanalysis(design, \"hfss\")"
   ]
  },
  {
   "cell_type": "code",
   "execution_count": 5,
   "id": "0591a483",
   "metadata": {},
   "outputs": [],
   "source": [
    "hfss = eig_qb.sim.renderer"
   ]
  },
  {
   "cell_type": "code",
   "execution_count": 6,
   "id": "0854a004",
   "metadata": {},
   "outputs": [
    {
     "name": "stderr",
     "output_type": "stream",
     "text": [
      "INFO 06:45PM [connect_project]: Connecting to Ansys Desktop API...\n",
      "INFO 06:45PM [load_ansys_project]: \tOpened Ansys App\n",
      "INFO 06:45PM [load_ansys_project]: \tOpened Ansys Desktop v15.0.0\n",
      "INFO 06:45PM [load_ansys_project]: \tOpened Ansys Project\n",
      "\tFolder:    C:/Users/leona/Documents/Ansoft/\n",
      "\tProject:   Project1\n",
      "INFO 06:45PM [connect_design]: No active design found (or error getting active design).\n",
      "INFO 06:45PM [connect]: \t Connected to project \"Project1\". No design detected\n"
     ]
    },
    {
     "data": {
      "text/plain": [
       "True"
      ]
     },
     "execution_count": 6,
     "metadata": {},
     "output_type": "execute_result"
    }
   ],
   "source": [
    "hfss.start()"
   ]
  },
  {
   "cell_type": "code",
   "execution_count": 7,
   "id": "1feecfe0",
   "metadata": {},
   "outputs": [
    {
     "name": "stderr",
     "output_type": "stream",
     "text": [
      "06:45PM 33s WARNING [activate_ansys_design]: The design_name=TransmonQubit was not in active project.  Designs in active project are: \n",
      "[].  A new design will be added to the project.  \n",
      "INFO 06:45PM [connect_design]: \tOpened active design\n",
      "\tDesign:    TransmonQubit [Solution type: Eigenmode]\n",
      "WARNING 06:45PM [connect_setup]: \tNo design setup detected.\n",
      "WARNING 06:45PM [connect_setup]: \tCreating eigenmode default setup.\n",
      "INFO 06:45PM [get_setup]: \tOpened setup `Setup`  (<class 'pyEPR.ansys.HfssEMSetup'>)\n"
     ]
    }
   ],
   "source": [
    "hfss.activate_ansys_design(\"TransmonQubit\", 'eigenmode')  # use new_ansys_design() to force creation of a blank design"
   ]
  },
  {
   "cell_type": "code",
   "execution_count": 8,
   "id": "5e502376",
   "metadata": {},
   "outputs": [],
   "source": [
    "hfss.render_design(['Q1'], [])\n",
    "#hfss.save_screenshot()"
   ]
  },
  {
   "cell_type": "code",
   "execution_count": 10,
   "id": "1918b801",
   "metadata": {},
   "outputs": [
    {
     "name": "stderr",
     "output_type": "stream",
     "text": [
      "INFO 06:47PM [analyze]: Analyzing setup Setup\n"
     ]
    },
    {
     "name": "stdout",
     "output_type": "stream",
     "text": [
      "\n",
      "Number of eigenmodes to find             = 1\n",
      "Number of simulation passes              = 10\n",
      "Convergence freq max delta percent diff  = 0.1\n",
      "\n"
     ]
    }
   ],
   "source": [
    "# Analysis properties\n",
    "setup = hfss.pinfo.setup\n",
    "setup.passes = 10\n",
    "print(f\"\"\"\n",
    "Number of eigenmodes to find             = {setup.n_modes}\n",
    "Number of simulation passes              = {setup.passes}\n",
    "Convergence freq max delta percent diff  = {setup.delta_f}\n",
    "\"\"\")\n",
    "\n",
    "pinfo = hfss.pinfo\n",
    "pinfo.design.set_variable('Lj', '10 nH')\n",
    "pinfo.design.set_variable('Cj', '0 fF')\n",
    "\n",
    "setup.analyze()"
   ]
  },
  {
   "cell_type": "code",
   "execution_count": 12,
   "id": "82bc0c95",
   "metadata": {},
   "outputs": [
    {
     "name": "stderr",
     "output_type": "stream",
     "text": [
      "06:11PM 28s INFO [get_f_convergence]: Saved convergences to C:\\Users\\Leonardo Bove\\Desktop\\OneDrive - University of Pisa\\Tesi\\qiskit\\qmetal\\hfss_eig_f_convergence.csv\n"
     ]
    }
   ],
   "source": [
    "eig_qb.sim.convergence_t, eig_qb.sim.convergence_f, _ = hfss.get_convergences()\n",
    "eig_qb.sim.plot_convergences()"
   ]
  },
  {
   "cell_type": "code",
   "execution_count": 14,
   "id": "b0f2fd74",
   "metadata": {},
   "outputs": [],
   "source": [
    "hfss.modeler._modeler.ShowWindow()\n",
    "#hfss.plot_fields('main')\n",
    "#hfss.save_screenshot()"
   ]
  },
  {
   "cell_type": "code",
   "execution_count": 15,
   "id": "69daf637",
   "metadata": {},
   "outputs": [
    {
     "name": "stderr",
     "output_type": "stream",
     "text": [
      "06:19PM 37s WARNING [plot_ansys_delete]: This method is deprecated. Change your scripts to use clear_fields()\n"
     ]
    }
   ],
   "source": [
    "hfss.plot_ansys_delete(['Mag_E1'])"
   ]
  },
  {
   "cell_type": "code",
   "execution_count": 18,
   "id": "221fdd97",
   "metadata": {},
   "outputs": [],
   "source": [
    "pinfo = hfss.pinfo\n",
    "pinfo.junctions['jj'] = {'Lj_variable': 'Lj', 'rect': 'JJ_rect_Lj_Q1_rect_jj',\n",
    "                             'line': 'JJ_Lj_Q1_rect_jj_',  'Cj_variable': 'Cj'}\n",
    "pinfo.validate_junction_info() # Check that valid names of variables and objects have been supplied\n",
    "pinfo.dissipative['dielectrics_bulk'] = ['main'] # Dissipative elements: specify"
   ]
  },
  {
   "cell_type": "code",
   "execution_count": 19,
   "id": "bdf331b1",
   "metadata": {},
   "outputs": [
    {
     "name": "stdout",
     "output_type": "stream",
     "text": [
      "Design \"TransmonQubit\" info:\n",
      "\t# eigenmodes    1\n",
      "\t# variations    1\n"
     ]
    }
   ],
   "source": [
    "eprd = epr.DistributedAnalysis(pinfo)"
   ]
  },
  {
   "cell_type": "code",
   "execution_count": 20,
   "id": "fea4770c",
   "metadata": {},
   "outputs": [
    {
     "name": "stdout",
     "output_type": "stream",
     "text": [
      "\n",
      "ℰ_elec_all       = 2.62819345245582e-24\n",
      "ℰ_elec_substrate = 2.41970903755386e-24\n",
      "EPR of substrate = 92.1%\n",
      "\n",
      "ℰ_mag    = 1.36442639274371e-26\n",
      "\n"
     ]
    }
   ],
   "source": [
    "ℰ_elec = eprd.calc_energy_electric()\n",
    "ℰ_elec_substrate = eprd.calc_energy_electric(None, 'main')\n",
    "ℰ_mag = eprd.calc_energy_magnetic()\n",
    "\n",
    "print(f\"\"\"\n",
    "ℰ_elec_all       = {ℰ_elec}\n",
    "ℰ_elec_substrate = {ℰ_elec_substrate}\n",
    "EPR of substrate = {ℰ_elec_substrate / ℰ_elec * 100 :.1f}%\n",
    "\n",
    "ℰ_mag    = {ℰ_mag}\n",
    "\"\"\")"
   ]
  },
  {
   "cell_type": "code",
   "execution_count": 21,
   "id": "2260d7f6",
   "metadata": {},
   "outputs": [
    {
     "name": "stderr",
     "output_type": "stream",
     "text": [
      "WARNING:py.warnings:C:\\Python39\\lib\\site-packages\\pyEPR\\project_info.py:239: FutureWarning: The default dtype for empty Series will be 'object' instead of 'float64' in a future version. Specify a dtype explicitly to silence this warning.\n",
      "  options=pd.Series(get_instance_vars(self.options)),\n",
      "\n"
     ]
    },
    {
     "name": "stdout",
     "output_type": "stream",
     "text": [
      "\n",
      "Variation 0  [1/1]\n"
     ]
    },
    {
     "name": "stderr",
     "output_type": "stream",
     "text": [
      "WARNING:py.warnings:C:\\Python39\\lib\\site-packages\\pyEPR\\core_distributed_analysis.py:1101: FutureWarning: The default dtype for empty Series will be 'object' instead of 'float64' in a future version. Specify a dtype explicitly to silence this warning.\n",
      "  Ljs = pd.Series({})\n",
      "\n",
      "WARNING:py.warnings:C:\\Python39\\lib\\site-packages\\pyEPR\\core_distributed_analysis.py:1102: FutureWarning: The default dtype for empty Series will be 'object' instead of 'float64' in a future version. Specify a dtype explicitly to silence this warning.\n",
      "  Cjs = pd.Series({})\n",
      "\n"
     ]
    },
    {
     "ename": "com_error",
     "evalue": "(-2147352567, 'Eccezione.', (0, None, None, None, 0, -2147024381), None)",
     "output_type": "error",
     "traceback": [
      "\u001b[1;31m---------------------------------------------------------------------------\u001b[0m",
      "\u001b[1;31mcom_error\u001b[0m                                 Traceback (most recent call last)",
      "Cell \u001b[1;32mIn[21], line 1\u001b[0m\n\u001b[1;32m----> 1\u001b[0m \u001b[43meprd\u001b[49m\u001b[38;5;241;43m.\u001b[39;49m\u001b[43mdo_EPR_analysis\u001b[49m\u001b[43m(\u001b[49m\u001b[43m)\u001b[49m\n\u001b[0;32m      3\u001b[0m \u001b[38;5;66;03m# 4a. Perform Hamiltonian spectrum post-analysis, building on mw solutions using EPR\u001b[39;00m\n\u001b[0;32m      4\u001b[0m epra \u001b[38;5;241m=\u001b[39m epr\u001b[38;5;241m.\u001b[39mQuantumAnalysis(eprd\u001b[38;5;241m.\u001b[39mdata_filename)\n",
      "File \u001b[1;32mC:\\Python39\\lib\\site-packages\\pyEPR\\core_distributed_analysis.py:1242\u001b[0m, in \u001b[0;36mDistributedAnalysis.do_EPR_analysis\u001b[1;34m(self, variations, modes, append_analysis)\u001b[0m\n\u001b[0;32m   1237\u001b[0m ansys_energies \u001b[38;5;241m=\u001b[39m OrderedDict()\n\u001b[0;32m   1239\u001b[0m \u001b[38;5;28;01mfor\u001b[39;00m mode \u001b[38;5;129;01min\u001b[39;00m modes:  \u001b[38;5;66;03m# integer of mode number [0,1,2,3,..]\u001b[39;00m\n\u001b[0;32m   1240\u001b[0m \n\u001b[0;32m   1241\u001b[0m     \u001b[38;5;66;03m# Load fields for mode\u001b[39;00m\n\u001b[1;32m-> 1242\u001b[0m     \u001b[38;5;28;43mself\u001b[39;49m\u001b[38;5;241;43m.\u001b[39;49m\u001b[43mset_mode\u001b[49m\u001b[43m(\u001b[49m\u001b[43mmode\u001b[49m\u001b[43m)\u001b[49m\n\u001b[0;32m   1244\u001b[0m     \u001b[38;5;66;03m# Get HFSS  solved frequencies\u001b[39;00m\n\u001b[0;32m   1245\u001b[0m     _Om \u001b[38;5;241m=\u001b[39m pd\u001b[38;5;241m.\u001b[39mSeries({})\n",
      "File \u001b[1;32mC:\\Python39\\lib\\site-packages\\pyEPR\\core_distributed_analysis.py:1517\u001b[0m, in \u001b[0;36mDistributedAnalysis.set_mode\u001b[1;34m(self, mode_num, phase)\u001b[0m\n\u001b[0;32m   1514\u001b[0m \u001b[38;5;28;01mif\u001b[39;00m mode_num \u001b[38;5;241m<\u001b[39m \u001b[38;5;241m0\u001b[39m:\n\u001b[0;32m   1515\u001b[0m     logger\u001b[38;5;241m.\u001b[39merror(\u001b[38;5;124m'\u001b[39m\u001b[38;5;124mToo small a mode number\u001b[39m\u001b[38;5;124m'\u001b[39m)\n\u001b[1;32m-> 1517\u001b[0m \u001b[38;5;28;43mself\u001b[39;49m\u001b[38;5;241;43m.\u001b[39;49m\u001b[43msolutions\u001b[49m\u001b[38;5;241;43m.\u001b[39;49m\u001b[43mset_mode\u001b[49m\u001b[43m(\u001b[49m\u001b[43mmode_num\u001b[49m\u001b[43m \u001b[49m\u001b[38;5;241;43m+\u001b[39;49m\u001b[43m \u001b[49m\u001b[38;5;241;43m1\u001b[39;49m\u001b[43m,\u001b[49m\u001b[43m \u001b[49m\u001b[43mphase\u001b[49m\u001b[43m)\u001b[49m\n\u001b[0;32m   1519\u001b[0m \u001b[38;5;28;01mif\u001b[39;00m \u001b[38;5;28mself\u001b[39m\u001b[38;5;241m.\u001b[39mhas_fields() \u001b[38;5;241m==\u001b[39m \u001b[38;5;28;01mFalse\u001b[39;00m:\n\u001b[0;32m   1520\u001b[0m     logger\u001b[38;5;241m.\u001b[39mwarning(\u001b[38;5;124mf\u001b[39m\u001b[38;5;124m\"\u001b[39m\u001b[38;5;124m Error: HFSS does not have field solution for variation=\u001b[39m\u001b[38;5;132;01m{\u001b[39;00mmode_num\u001b[38;5;132;01m}\u001b[39;00m\u001b[38;5;124m.\u001b[39m\u001b[38;5;130;01m\\\u001b[39;00m\n\u001b[0;32m   1521\u001b[0m \u001b[38;5;124m                            Skipping this mode in the analysis \u001b[39m\u001b[38;5;130;01m\\N{face with medical mask}\u001b[39;00m\u001b[38;5;124m\"\u001b[39m)\n",
      "File \u001b[1;32mC:\\Python39\\lib\\site-packages\\pyEPR\\ansys.py:1698\u001b[0m, in \u001b[0;36mHfssEMDesignSolutions.set_mode\u001b[1;34m(self, n, phase, FieldType)\u001b[0m\n\u001b[0;32m   1683\u001b[0m     \u001b[38;5;28mself\u001b[39m\u001b[38;5;241m.\u001b[39m_solutions\u001b[38;5;241m.\u001b[39mEditSources(\n\u001b[0;32m   1684\u001b[0m         [[\u001b[38;5;124m\"\u001b[39m\u001b[38;5;124mFieldType:=\u001b[39m\u001b[38;5;124m\"\u001b[39m, \u001b[38;5;124m\"\u001b[39m\u001b[38;5;124mEigenPeakElectricField\u001b[39m\u001b[38;5;124m\"\u001b[39m],\n\u001b[0;32m   1685\u001b[0m          [\n\u001b[1;32m   (...)\u001b[0m\n\u001b[0;32m   1692\u001b[0m              ]\n\u001b[0;32m   1693\u001b[0m          ]])\n\u001b[0;32m   1694\u001b[0m \u001b[38;5;28;01melse\u001b[39;00m:\n\u001b[0;32m   1695\u001b[0m     \u001b[38;5;66;03m# The syntax has changed for AEDT 18.2.\u001b[39;00m\n\u001b[0;32m   1696\u001b[0m     \u001b[38;5;66;03m# see https://ansyshelp.ansys.com/account/secured?returnurl=/Views/Secured/Electronics/v195//Subsystems/HFSS/Subsystems/HFSS%20Scripting/HFSS%20Scripting.htm\u001b[39;00m\n\u001b[1;32m-> 1698\u001b[0m     \u001b[38;5;28;43mself\u001b[39;49m\u001b[38;5;241;43m.\u001b[39;49m\u001b[43m_solutions\u001b[49m\u001b[38;5;241;43m.\u001b[39;49m\u001b[43mEditSources\u001b[49m\u001b[43m(\u001b[49m\n\u001b[0;32m   1699\u001b[0m \u001b[43m        \u001b[49m\u001b[38;5;124;43m\"\u001b[39;49m\u001b[38;5;124;43mEigenStoredEnergy\u001b[39;49m\u001b[38;5;124;43m\"\u001b[39;49m\u001b[43m,\u001b[49m\u001b[43m \u001b[49m\u001b[43m[\u001b[49m\u001b[38;5;124;43m\"\u001b[39;49m\u001b[38;5;124;43mNAME:SourceNames\u001b[39;49m\u001b[38;5;124;43m\"\u001b[39;49m\u001b[43m,\u001b[49m\u001b[43m \u001b[49m\u001b[38;5;124;43m\"\u001b[39;49m\u001b[38;5;124;43mEigenMode\u001b[39;49m\u001b[38;5;124;43m\"\u001b[39;49m\u001b[43m]\u001b[49m\u001b[43m,\u001b[49m\n\u001b[0;32m   1700\u001b[0m \u001b[43m        \u001b[49m\u001b[43m[\u001b[49m\u001b[38;5;124;43m\"\u001b[39;49m\u001b[38;5;124;43mNAME:Modes\u001b[39;49m\u001b[38;5;124;43m\"\u001b[39;49m\u001b[43m,\u001b[49m\u001b[43m \u001b[49m\u001b[43mn_modes\u001b[49m\u001b[43m]\u001b[49m\u001b[43m,\u001b[49m\u001b[43m \u001b[49m\u001b[43m[\u001b[49m\u001b[38;5;124;43m\"\u001b[39;49m\u001b[38;5;124;43mNAME:Magnitudes\u001b[39;49m\u001b[38;5;124;43m\"\u001b[39;49m\u001b[43m]\u001b[49m\u001b[43m \u001b[49m\u001b[38;5;241;43m+\u001b[39;49m\n\u001b[0;32m   1701\u001b[0m \u001b[43m        \u001b[49m\u001b[43m[\u001b[49m\u001b[38;5;241;43m1\u001b[39;49m\u001b[43m \u001b[49m\u001b[38;5;28;43;01mif\u001b[39;49;00m\u001b[43m \u001b[49m\u001b[43mi\u001b[49m\u001b[43m \u001b[49m\u001b[38;5;241;43m+\u001b[39;49m\u001b[43m \u001b[49m\u001b[38;5;241;43m1\u001b[39;49m\u001b[43m \u001b[49m\u001b[38;5;241;43m==\u001b[39;49m\u001b[43m \u001b[49m\u001b[43mn\u001b[49m\u001b[43m \u001b[49m\u001b[38;5;28;43;01melse\u001b[39;49;00m\u001b[43m \u001b[49m\u001b[38;5;241;43m0\u001b[39;49m\n\u001b[0;32m   1702\u001b[0m \u001b[43m         \u001b[49m\u001b[38;5;28;43;01mfor\u001b[39;49;00m\u001b[43m \u001b[49m\u001b[43mi\u001b[49m\u001b[43m \u001b[49m\u001b[38;5;129;43;01min\u001b[39;49;00m\u001b[43m \u001b[49m\u001b[38;5;28;43mrange\u001b[39;49m\u001b[43m(\u001b[49m\u001b[43mn_modes\u001b[49m\u001b[43m)\u001b[49m\u001b[43m]\u001b[49m\u001b[43m,\u001b[49m\u001b[43m \u001b[49m\u001b[43m[\u001b[49m\u001b[38;5;124;43m\"\u001b[39;49m\u001b[38;5;124;43mNAME:Phases\u001b[39;49m\u001b[38;5;124;43m\"\u001b[39;49m\u001b[43m]\u001b[49m\u001b[43m \u001b[49m\u001b[38;5;241;43m+\u001b[39;49m\n\u001b[0;32m   1703\u001b[0m \u001b[43m        \u001b[49m\u001b[43m[\u001b[49m\u001b[43mphase\u001b[49m\u001b[43m \u001b[49m\u001b[38;5;28;43;01mif\u001b[39;49;00m\u001b[43m \u001b[49m\u001b[43mi\u001b[49m\u001b[43m \u001b[49m\u001b[38;5;241;43m+\u001b[39;49m\u001b[43m \u001b[49m\u001b[38;5;241;43m1\u001b[39;49m\u001b[43m \u001b[49m\u001b[38;5;241;43m==\u001b[39;49m\u001b[43m \u001b[49m\u001b[43mn\u001b[49m\u001b[43m \u001b[49m\u001b[38;5;28;43;01melse\u001b[39;49;00m\u001b[43m \u001b[49m\u001b[38;5;241;43m0\u001b[39;49m\u001b[43m \u001b[49m\u001b[38;5;28;43;01mfor\u001b[39;49;00m\u001b[43m \u001b[49m\u001b[43mi\u001b[49m\u001b[43m \u001b[49m\u001b[38;5;129;43;01min\u001b[39;49;00m\u001b[43m \u001b[49m\u001b[38;5;28;43mrange\u001b[39;49m\u001b[43m(\u001b[49m\u001b[43mn_modes\u001b[49m\u001b[43m)\u001b[49m\u001b[43m]\u001b[49m\u001b[43m,\u001b[49m\n\u001b[0;32m   1704\u001b[0m \u001b[43m        \u001b[49m\u001b[43m[\u001b[49m\u001b[38;5;124;43m\"\u001b[39;49m\u001b[38;5;124;43mNAME:Terminated\u001b[39;49m\u001b[38;5;124;43m\"\u001b[39;49m\u001b[43m]\u001b[49m\u001b[43m,\u001b[49m\u001b[43m \u001b[49m\u001b[43m[\u001b[49m\u001b[38;5;124;43m\"\u001b[39;49m\u001b[38;5;124;43mNAME:Impedances\u001b[39;49m\u001b[38;5;124;43m\"\u001b[39;49m\u001b[43m]\u001b[49m\u001b[43m)\u001b[49m\n",
      "File \u001b[1;32m<COMObject GetModule>:3\u001b[0m, in \u001b[0;36mEditSources\u001b[1;34m(self, theFieldType, theNames, theMulti, theMags, thePhases, theTerminated, theImpedances, doPortPostproc, useIncidentVoltage)\u001b[0m\n",
      "\u001b[1;31mcom_error\u001b[0m: (-2147352567, 'Eccezione.', (0, None, None, None, 0, -2147024381), None)"
     ]
    }
   ],
   "source": [
    "eprd.do_EPR_analysis()\n",
    "\n",
    "# 4a. Perform Hamiltonian spectrum post-analysis, building on mw solutions using EPR\n",
    "epra = epr.QuantumAnalysis(eprd.data_filename)\n",
    "epra.analyze_all_variations(cos_trunc = 8, fock_trunc = 7)\n",
    "\n",
    "# 4b. Report solved results\n",
    "swp_variable = 'Lj' # suppose we swept an optimetric analysis vs. inductance Lj_alice\n",
    "epra.plot_hamiltonian_results(swp_variable=swp_variable)\n",
    "epra.report_results(swp_variable=swp_variable, numeric=True)"
   ]
  },
  {
   "cell_type": "code",
   "execution_count": 22,
   "id": "08720f77",
   "metadata": {},
   "outputs": [
    {
     "name": "stdout",
     "output_type": "stream",
     "text": [
      "Warning! 9 COM references still alive\n",
      "Ansys will likely refuse to shut down\n"
     ]
    }
   ],
   "source": [
    "eig_qb.sim.close()"
   ]
  },
  {
   "cell_type": "code",
   "execution_count": null,
   "id": "4ff2eb11",
   "metadata": {},
   "outputs": [],
   "source": []
  }
 ],
 "metadata": {
  "kernelspec": {
   "display_name": "Python 3 (ipykernel)",
   "language": "python",
   "name": "python3"
  },
  "language_info": {
   "codemirror_mode": {
    "name": "ipython",
    "version": 3
   },
   "file_extension": ".py",
   "mimetype": "text/x-python",
   "name": "python",
   "nbconvert_exporter": "python",
   "pygments_lexer": "ipython3",
   "version": "3.10.7"
  }
 },
 "nbformat": 4,
 "nbformat_minor": 5
}
